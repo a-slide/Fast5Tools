{
 "cells": [
  {
   "cell_type": "code",
   "execution_count": 4,
   "metadata": {
    "ExecuteTime": {
     "end_time": "2017-11-14T16:35:04.156683",
     "start_time": "2017-11-14T16:35:04.125819Z"
    },
    "collapsed": false,
    "init_cell": true,
    "run_control": {
     "frozen": false,
     "read_only": false
    },
    "scrolled": false
   },
   "outputs": [
    {
     "data": {
      "text/markdown": [
       "# Fast5Tools 0.0.a1 package documentation\n"
      ],
      "text/plain": [
       "<IPython.core.display.Markdown object>"
      ]
     },
     "metadata": {},
     "output_type": "display_data"
    },
    {
     "data": {
      "text/markdown": [
       "\n",
       "---\n"
      ],
      "text/plain": [
       "<IPython.core.display.Markdown object>"
      ]
     },
     "metadata": {},
     "output_type": "display_data"
    },
    {
     "data": {
      "text/markdown": [
       "\n",
       "**Fast5 tools is a collection of tools to manipulate Fast5 files**\n"
      ],
      "text/plain": [
       "<IPython.core.display.Markdown object>"
      ]
     },
     "metadata": {},
     "output_type": "display_data"
    },
    {
     "data": {
      "text/markdown": [
       "\n",
       "---\n"
      ],
      "text/plain": [
       "<IPython.core.display.Markdown object>"
      ]
     },
     "metadata": {},
     "output_type": "display_data"
    },
    {
     "data": {
      "text/markdown": [
       "\n"
      ],
      "text/plain": [
       "<IPython.core.display.Markdown object>"
      ]
     },
     "metadata": {},
     "output_type": "display_data"
    },
    {
     "data": {
      "text/markdown": [
       "* Author: Adrien Leger - aleg {at} ebi.ac.uk\n"
      ],
      "text/plain": [
       "<IPython.core.display.Markdown object>"
      ]
     },
     "metadata": {},
     "output_type": "display_data"
    },
    {
     "data": {
      "text/markdown": [
       "* URL: https://github.com/a-slide/Fast5Tools\n"
      ],
      "text/plain": [
       "<IPython.core.display.Markdown object>"
      ]
     },
     "metadata": {},
     "output_type": "display_data"
    },
    {
     "data": {
      "text/markdown": [
       "* Licence: GPLv3\n"
      ],
      "text/plain": [
       "<IPython.core.display.Markdown object>"
      ]
     },
     "metadata": {},
     "output_type": "display_data"
    },
    {
     "data": {
      "text/markdown": [
       "* Python version: >=3.3\n"
      ],
      "text/plain": [
       "<IPython.core.display.Markdown object>"
      ]
     },
     "metadata": {},
     "output_type": "display_data"
    }
   ],
   "source": [
    "#### REMOVE in README.md ####\n",
    "import Fast5Tools as package\n",
    "from IPython.core.display import display, Markdown\n",
    "display(Markdown(\"# {} {} package documentation\\n\".format(package.__name__, package.__version__)))\n",
    "display(Markdown(\"\\n---\\n\"))\n",
    "display(Markdown(\"\\n**{}**\\n\".format(package.setup_dict[\"description\"])))\n",
    "display(Markdown(\"\\n---\\n\"))\n",
    "display(Markdown(\"{}\\n\".format(package.setup_dict[\"long_description\"])))\n",
    "display(Markdown(\"* Author: {} - {}\\n\".format(package.setup_dict[\"author\"], package.setup_dict[\"author_email\"])))\n",
    "display(Markdown(\"* URL: {}\\n\".format(package.setup_dict[\"url\"])))\n",
    "display(Markdown(\"* Licence: {}\\n\".format(package.setup_dict[\"license\"])))\n",
    "display(Markdown(\"* Python version: {}\\n\".format(package.setup_dict[\"python_requires\"])))\n",
    "#############################"
   ]
  },
  {
   "cell_type": "markdown",
   "metadata": {},
   "source": [
    "# Installation"
   ]
  },
  {
   "cell_type": "markdown",
   "metadata": {},
   "source": [
    "Ideally, before installation, create a clean python3 virtual environment to deploy the package, using virtualenvwrapper for example (see http://www.simononsoftware.com/virtualenv-tutorial-part-2/)."
   ]
  },
  {
   "cell_type": "code",
   "execution_count": 5,
   "metadata": {
    "ExecuteTime": {
     "end_time": "2017-11-14T16:35:15.988580",
     "start_time": "2017-11-14T16:35:15.971699Z"
    },
    "collapsed": false,
    "init_cell": true,
    "run_control": {
     "frozen": false,
     "read_only": false
    }
   },
   "outputs": [
    {
     "data": {
      "text/markdown": [
       "## Required packages:\n"
      ],
      "text/plain": [
       "<IPython.core.display.Markdown object>"
      ]
     },
     "metadata": {},
     "output_type": "display_data"
    },
    {
     "data": {
      "text/markdown": [
       "* h5py>=2.7.1\n"
      ],
      "text/plain": [
       "<IPython.core.display.Markdown object>"
      ]
     },
     "metadata": {},
     "output_type": "display_data"
    },
    {
     "data": {
      "text/markdown": [
       "* numpy>=1.8.1\n"
      ],
      "text/plain": [
       "<IPython.core.display.Markdown object>"
      ]
     },
     "metadata": {},
     "output_type": "display_data"
    }
   ],
   "source": [
    "#### REMOVE in README.md ####\n",
    "import Fast5Tools as package\n",
    "\n",
    "from IPython.core.display import display, Markdown\n",
    "if \"install_requires\" in package.setup_dict:\n",
    "    display(Markdown(\"## Required packages:\\n\"))\n",
    "    for dep in package.setup_dict[\"install_requires\"]:\n",
    "        display(Markdown(\"* {}\\n\".format(dep)))\n",
    "        \n",
    "if \"extras_require\" in package.setup_dict:\n",
    "    display(Markdown(\"## Optional packages:\\n\"))\n",
    "    for fun, dep_list in package.setup_dict[\"extras_require\"].items():\n",
    "        display(Markdown(\"* {} : {}\\n\".format(fun, dep_list)))\n",
    "#############################"
   ]
  },
  {
   "cell_type": "markdown",
   "metadata": {},
   "source": [
    "## Installation with pip from github"
   ]
  },
  {
   "cell_type": "markdown",
   "metadata": {},
   "source": [
    "Ideally, before installation, create a clean python3 virtual environment to deploy the package, using virtualenvwrapper for example (see http://www.simononsoftware.com/virtualenv-tutorial-part-2/).\n",
    "\n",
    "* To install the package\n",
    "\n",
    "    ```pip3 install git+https://github.com/a-slide/Fast5Tools.git```\n",
    "   \n",
    "* To update the package:\n",
    "\n",
    "    ```pip3 install git+https://github.com/a-slide/Fast5Tools.git --upgrade```\n"
   ]
  },
  {
   "cell_type": "markdown",
   "metadata": {},
   "source": [
    "## Usage and tests\n"
   ]
  },
  {
   "cell_type": "markdown",
   "metadata": {},
   "source": [
    "Under development ..."
   ]
  }
 ],
 "metadata": {
  "celltoolbar": "Initialisation Cell",
  "kernelspec": {
   "display_name": "Python3",
   "language": "python",
   "name": "python3"
  },
  "language_info": {
   "codemirror_mode": {
    "name": "ipython",
    "version": 3
   },
   "file_extension": ".py",
   "mimetype": "text/x-python",
   "name": "python",
   "nbconvert_exporter": "python",
   "pygments_lexer": "ipython3",
   "version": "3.5.2"
  },
  "widgets": {
   "state": {},
   "version": "1.1.1"
  }
 },
 "nbformat": 4,
 "nbformat_minor": 0
}
